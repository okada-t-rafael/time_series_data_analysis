{
  "nbformat": 4,
  "nbformat_minor": 0,
  "metadata": {
    "kernelspec": {
      "display_name": "Python 3",
      "language": "python",
      "name": "python3"
    },
    "language_info": {
      "codemirror_mode": {
        "name": "ipython",
        "version": 3
      },
      "file_extension": ".py",
      "mimetype": "text/x-python",
      "name": "python",
      "nbconvert_exporter": "python",
      "pygments_lexer": "ipython3",
      "version": "3.7.2"
    },
    "colab": {
      "name": "17-Pandas-Exercises.ipynb",
      "provenance": [],
      "include_colab_link": true
    }
  },
  "cells": [
    {
      "cell_type": "markdown",
      "metadata": {
        "id": "view-in-github",
        "colab_type": "text"
      },
      "source": [
        "<a href=\"https://colab.research.google.com/github/okada-t-rafael/time_series_data_analysis/blob/master/17_Pandas_Exercises.ipynb\" target=\"_parent\"><img src=\"https://colab.research.google.com/assets/colab-badge.svg\" alt=\"Open In Colab\"/></a>"
      ]
    },
    {
      "cell_type": "markdown",
      "metadata": {
        "id": "IrszZgGIbTU5",
        "colab_type": "text"
      },
      "source": [
        "# Pandas Exercises\n",
        "Time to test your new pandas skills! Use the <tt>population_by_county.csv</tt> file in the Data folder to complete the tasks in bold below!\n",
        "\n",
        "<div class=\"alert alert-info\" style=\"margin: 10px\"><strong>NOTE:</strong> ALL TASKS CAN BE DONE IN ONE LINE OF PANDAS CODE. GET STUCK? NO PROBLEM! CHECK OUT THE SOLUTIONS LECTURE!</div>\n",
        "\n",
        "<div class=\"alert alert-danger\" style=\"margin: 10px\"><strong>IMPORTANT NOTE!</strong> Make sure you don't run the cells directly above the example output shown, <br>otherwise you will end up writing over the example output!</div>"
      ]
    },
    {
      "cell_type": "markdown",
      "metadata": {
        "id": "V4uZMVZPbTU7",
        "colab_type": "text"
      },
      "source": [
        "#### 1. Import pandas and read in the <tt>population_by_county.csv</tt> file into a dataframe called <tt>pop</tt>."
      ]
    },
    {
      "cell_type": "code",
      "metadata": {
        "id": "dBoF0HwNbTU8",
        "colab_type": "code",
        "colab": {
          "resources": {
            "http://localhost:8080/nbextensions/google.colab/files.js": {
              "data": "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",
              "ok": true,
              "headers": [
                [
                  "content-type",
                  "application/javascript"
                ]
              ],
              "status": 200,
              "status_text": ""
            }
          },
          "base_uri": "https://localhost:8080/",
          "height": 90
        },
        "outputId": "2549032d-c310-452e-8879-d3ada074a31e"
      },
      "source": [
        "import pandas as pd\n",
        "from google.colab import files\n",
        "uploaded = files.upload()"
      ],
      "execution_count": 1,
      "outputs": [
        {
          "output_type": "display_data",
          "data": {
            "text/html": [
              "\n",
              "     <input type=\"file\" id=\"files-06f3d5eb-c562-400b-9cb8-4dbb851ec22c\" name=\"files[]\" multiple disabled\n",
              "        style=\"border:none\" />\n",
              "     <output id=\"result-06f3d5eb-c562-400b-9cb8-4dbb851ec22c\">\n",
              "      Upload widget is only available when the cell has been executed in the\n",
              "      current browser session. Please rerun this cell to enable.\n",
              "      </output>\n",
              "      <script src=\"/nbextensions/google.colab/files.js\"></script> "
            ],
            "text/plain": [
              "<IPython.core.display.HTML object>"
            ]
          },
          "metadata": {
            "tags": []
          }
        },
        {
          "output_type": "stream",
          "text": [
            "Saving population_by_county.csv to population_by_county.csv\n"
          ],
          "name": "stdout"
        }
      ]
    },
    {
      "cell_type": "code",
      "metadata": {
        "id": "xm7xQfISbTVD",
        "colab_type": "code",
        "colab": {}
      },
      "source": [
        "df = pd.read_csv('population_by_county.csv')"
      ],
      "execution_count": 2,
      "outputs": []
    },
    {
      "cell_type": "markdown",
      "metadata": {
        "id": "W-xPJZalbTVK",
        "colab_type": "text"
      },
      "source": [
        "#### 2. Show the head of the dataframe"
      ]
    },
    {
      "cell_type": "code",
      "metadata": {
        "id": "GaEQaNfSbTVL",
        "colab_type": "code",
        "colab": {
          "base_uri": "https://localhost:8080/",
          "height": 195
        },
        "outputId": "3106dad6-8e76-4364-9310-94c685792f12"
      },
      "source": [
        "# CODE HERE\n",
        "df.head()"
      ],
      "execution_count": 3,
      "outputs": [
        {
          "output_type": "execute_result",
          "data": {
            "text/html": [
              "<div>\n",
              "<style scoped>\n",
              "    .dataframe tbody tr th:only-of-type {\n",
              "        vertical-align: middle;\n",
              "    }\n",
              "\n",
              "    .dataframe tbody tr th {\n",
              "        vertical-align: top;\n",
              "    }\n",
              "\n",
              "    .dataframe thead th {\n",
              "        text-align: right;\n",
              "    }\n",
              "</style>\n",
              "<table border=\"1\" class=\"dataframe\">\n",
              "  <thead>\n",
              "    <tr style=\"text-align: right;\">\n",
              "      <th></th>\n",
              "      <th>County</th>\n",
              "      <th>State</th>\n",
              "      <th>2010Census</th>\n",
              "      <th>2017PopEstimate</th>\n",
              "    </tr>\n",
              "  </thead>\n",
              "  <tbody>\n",
              "    <tr>\n",
              "      <th>0</th>\n",
              "      <td>Abbeville County</td>\n",
              "      <td>South Carolina</td>\n",
              "      <td>25417</td>\n",
              "      <td>24722</td>\n",
              "    </tr>\n",
              "    <tr>\n",
              "      <th>1</th>\n",
              "      <td>Acadia Parish</td>\n",
              "      <td>Louisiana</td>\n",
              "      <td>61773</td>\n",
              "      <td>62590</td>\n",
              "    </tr>\n",
              "    <tr>\n",
              "      <th>2</th>\n",
              "      <td>Accomack County</td>\n",
              "      <td>Virginia</td>\n",
              "      <td>33164</td>\n",
              "      <td>32545</td>\n",
              "    </tr>\n",
              "    <tr>\n",
              "      <th>3</th>\n",
              "      <td>Ada County</td>\n",
              "      <td>Idaho</td>\n",
              "      <td>392365</td>\n",
              "      <td>456849</td>\n",
              "    </tr>\n",
              "    <tr>\n",
              "      <th>4</th>\n",
              "      <td>Adair County</td>\n",
              "      <td>Iowa</td>\n",
              "      <td>7682</td>\n",
              "      <td>7054</td>\n",
              "    </tr>\n",
              "  </tbody>\n",
              "</table>\n",
              "</div>"
            ],
            "text/plain": [
              "             County           State  2010Census  2017PopEstimate\n",
              "0  Abbeville County  South Carolina       25417            24722\n",
              "1     Acadia Parish       Louisiana       61773            62590\n",
              "2   Accomack County        Virginia       33164            32545\n",
              "3        Ada County           Idaho      392365           456849\n",
              "4      Adair County            Iowa        7682             7054"
            ]
          },
          "metadata": {
            "tags": []
          },
          "execution_count": 3
        }
      ]
    },
    {
      "cell_type": "code",
      "metadata": {
        "id": "f9fnvr2xbTVR",
        "colab_type": "code",
        "colab": {},
        "outputId": "8d9eff0f-9aac-49e2-bacc-30d6c7953676"
      },
      "source": [
        "# DON'T WRITE HERE"
      ],
      "execution_count": null,
      "outputs": [
        {
          "output_type": "execute_result",
          "data": {
            "text/html": [
              "<div>\n",
              "<style scoped>\n",
              "    .dataframe tbody tr th:only-of-type {\n",
              "        vertical-align: middle;\n",
              "    }\n",
              "\n",
              "    .dataframe tbody tr th {\n",
              "        vertical-align: top;\n",
              "    }\n",
              "\n",
              "    .dataframe thead th {\n",
              "        text-align: right;\n",
              "    }\n",
              "</style>\n",
              "<table border=\"1\" class=\"dataframe\">\n",
              "  <thead>\n",
              "    <tr style=\"text-align: right;\">\n",
              "      <th></th>\n",
              "      <th>County</th>\n",
              "      <th>State</th>\n",
              "      <th>2010Census</th>\n",
              "      <th>2017PopEstimate</th>\n",
              "    </tr>\n",
              "  </thead>\n",
              "  <tbody>\n",
              "    <tr>\n",
              "      <th>0</th>\n",
              "      <td>Abbeville County</td>\n",
              "      <td>South Carolina</td>\n",
              "      <td>25417</td>\n",
              "      <td>24722</td>\n",
              "    </tr>\n",
              "    <tr>\n",
              "      <th>1</th>\n",
              "      <td>Acadia Parish</td>\n",
              "      <td>Louisiana</td>\n",
              "      <td>61773</td>\n",
              "      <td>62590</td>\n",
              "    </tr>\n",
              "    <tr>\n",
              "      <th>2</th>\n",
              "      <td>Accomack County</td>\n",
              "      <td>Virginia</td>\n",
              "      <td>33164</td>\n",
              "      <td>32545</td>\n",
              "    </tr>\n",
              "    <tr>\n",
              "      <th>3</th>\n",
              "      <td>Ada County</td>\n",
              "      <td>Idaho</td>\n",
              "      <td>392365</td>\n",
              "      <td>456849</td>\n",
              "    </tr>\n",
              "    <tr>\n",
              "      <th>4</th>\n",
              "      <td>Adair County</td>\n",
              "      <td>Iowa</td>\n",
              "      <td>7682</td>\n",
              "      <td>7054</td>\n",
              "    </tr>\n",
              "  </tbody>\n",
              "</table>\n",
              "</div>"
            ],
            "text/plain": [
              "             County           State  2010Census  2017PopEstimate\n",
              "0  Abbeville County  South Carolina       25417            24722\n",
              "1     Acadia Parish       Louisiana       61773            62590\n",
              "2   Accomack County        Virginia       33164            32545\n",
              "3        Ada County           Idaho      392365           456849\n",
              "4      Adair County            Iowa        7682             7054"
            ]
          },
          "metadata": {
            "tags": []
          },
          "execution_count": 3
        }
      ]
    },
    {
      "cell_type": "markdown",
      "metadata": {
        "id": "EdI5rSdmbTVY",
        "colab_type": "text"
      },
      "source": [
        "#### 3. What are the column names?"
      ]
    },
    {
      "cell_type": "code",
      "metadata": {
        "id": "YjKZL4FlbTVZ",
        "colab_type": "code",
        "colab": {
          "base_uri": "https://localhost:8080/",
          "height": 34
        },
        "outputId": "6ac9411c-d0f9-4cc9-b25b-b731de87f72a"
      },
      "source": [
        "df.columns"
      ],
      "execution_count": 4,
      "outputs": [
        {
          "output_type": "execute_result",
          "data": {
            "text/plain": [
              "Index(['County', 'State', '2010Census', '2017PopEstimate'], dtype='object')"
            ]
          },
          "metadata": {
            "tags": []
          },
          "execution_count": 4
        }
      ]
    },
    {
      "cell_type": "code",
      "metadata": {
        "id": "xy1GJZi4bTVg",
        "colab_type": "code",
        "colab": {},
        "outputId": "0c7e30e1-200e-4222-acce-3cd7be4fba1f"
      },
      "source": [
        "# DON'T WRITE HERE"
      ],
      "execution_count": null,
      "outputs": [
        {
          "output_type": "execute_result",
          "data": {
            "text/plain": [
              "Index(['County', 'State', '2010Census', '2017PopEstimate'], dtype='object')"
            ]
          },
          "metadata": {
            "tags": []
          },
          "execution_count": 4
        }
      ]
    },
    {
      "cell_type": "markdown",
      "metadata": {
        "id": "klL8wvbXbTVj",
        "colab_type": "text"
      },
      "source": [
        "<strong>4. How many States are represented in this data set?</strong> <em>Note: the data includes the District of Columbia</em>"
      ]
    },
    {
      "cell_type": "code",
      "metadata": {
        "id": "Q12I_mtjbTVk",
        "colab_type": "code",
        "colab": {
          "base_uri": "https://localhost:8080/",
          "height": 34
        },
        "outputId": "8155b583-45bc-462e-dcf1-9d170a0ab1a8"
      },
      "source": [
        "df['State'].nunique()"
      ],
      "execution_count": 5,
      "outputs": [
        {
          "output_type": "execute_result",
          "data": {
            "text/plain": [
              "51"
            ]
          },
          "metadata": {
            "tags": []
          },
          "execution_count": 5
        }
      ]
    },
    {
      "cell_type": "code",
      "metadata": {
        "id": "Z7g-84lvbTVn",
        "colab_type": "code",
        "colab": {},
        "outputId": "75af55af-4c72-4399-b02b-36fe94b70526"
      },
      "source": [
        "# DON'T WRITE HERE"
      ],
      "execution_count": null,
      "outputs": [
        {
          "output_type": "execute_result",
          "data": {
            "text/plain": [
              "51"
            ]
          },
          "metadata": {
            "tags": []
          },
          "execution_count": 5
        }
      ]
    },
    {
      "cell_type": "markdown",
      "metadata": {
        "id": "yN1y_pDzbTVq",
        "colab_type": "text"
      },
      "source": [
        "#### 5. Get a list or array of all the states in the data set."
      ]
    },
    {
      "cell_type": "code",
      "metadata": {
        "id": "fzgu4sFNbTVq",
        "colab_type": "code",
        "colab": {
          "base_uri": "https://localhost:8080/",
          "height": 202
        },
        "outputId": "8c9381ef-43f5-4a8f-a0a1-c43222285247"
      },
      "source": [
        "df['State'].unique()"
      ],
      "execution_count": 6,
      "outputs": [
        {
          "output_type": "execute_result",
          "data": {
            "text/plain": [
              "array(['South Carolina', 'Louisiana', 'Virginia', 'Idaho', 'Iowa',\n",
              "       'Kentucky', 'Missouri', 'Oklahoma', 'Colorado', 'Illinois',\n",
              "       'Indiana', 'Mississippi', 'Nebraska', 'North Dakota', 'Ohio',\n",
              "       'Pennsylvania', 'Washington', 'Wisconsin', 'Vermont', 'Minnesota',\n",
              "       'Florida', 'North Carolina', 'California', 'New York', 'Wyoming',\n",
              "       'Michigan', 'Alaska', 'Maryland', 'Kansas', 'Tennessee', 'Texas',\n",
              "       'Maine', 'Arizona', 'Georgia', 'Arkansas', 'New Jersey',\n",
              "       'South Dakota', 'Alabama', 'Oregon', 'West Virginia',\n",
              "       'Massachusetts', 'Utah', 'Montana', 'New Hampshire', 'New Mexico',\n",
              "       'Rhode Island', 'Nevada', 'District of Columbia', 'Connecticut',\n",
              "       'Hawaii', 'Delaware'], dtype=object)"
            ]
          },
          "metadata": {
            "tags": []
          },
          "execution_count": 6
        }
      ]
    },
    {
      "cell_type": "code",
      "metadata": {
        "scrolled": true,
        "id": "SwyXhS51bTVt",
        "colab_type": "code",
        "colab": {},
        "outputId": "5a64ffdb-aa80-45a3-bf03-0b8703ebbb66"
      },
      "source": [
        "# DON'T WRITE HERE"
      ],
      "execution_count": null,
      "outputs": [
        {
          "output_type": "execute_result",
          "data": {
            "text/plain": [
              "array(['South Carolina', 'Louisiana', 'Virginia', 'Idaho', 'Iowa',\n",
              "       'Kentucky', 'Missouri', 'Oklahoma', 'Colorado', 'Illinois',\n",
              "       'Indiana', 'Mississippi', 'Nebraska', 'North Dakota', 'Ohio',\n",
              "       'Pennsylvania', 'Washington', 'Wisconsin', 'Vermont', 'Minnesota',\n",
              "       'Florida', 'North Carolina', 'California', 'New York', 'Wyoming',\n",
              "       'Michigan', 'Alaska', 'Maryland', 'Kansas', 'Tennessee', 'Texas',\n",
              "       'Maine', 'Arizona', 'Georgia', 'Arkansas', 'New Jersey',\n",
              "       'South Dakota', 'Alabama', 'Oregon', 'West Virginia',\n",
              "       'Massachusetts', 'Utah', 'Montana', 'New Hampshire', 'New Mexico',\n",
              "       'Rhode Island', 'Nevada', 'District of Columbia', 'Connecticut',\n",
              "       'Hawaii', 'Delaware'], dtype=object)"
            ]
          },
          "metadata": {
            "tags": []
          },
          "execution_count": 6
        }
      ]
    },
    {
      "cell_type": "markdown",
      "metadata": {
        "id": "u9Cur511bTVw",
        "colab_type": "text"
      },
      "source": [
        "#### 6. What are the five most common County names in the U.S.?"
      ]
    },
    {
      "cell_type": "code",
      "metadata": {
        "id": "zmm0jA2ZbTVx",
        "colab_type": "code",
        "colab": {
          "base_uri": "https://localhost:8080/",
          "height": 118
        },
        "outputId": "bd9f6b10-c4a2-4890-ff59-53f9d8193f54"
      },
      "source": [
        "df['County'].value_counts().head()"
      ],
      "execution_count": 7,
      "outputs": [
        {
          "output_type": "execute_result",
          "data": {
            "text/plain": [
              "Washington County    30\n",
              "Jefferson County     25\n",
              "Franklin County      24\n",
              "Jackson County       23\n",
              "Lincoln County       23\n",
              "Name: County, dtype: int64"
            ]
          },
          "metadata": {
            "tags": []
          },
          "execution_count": 7
        }
      ]
    },
    {
      "cell_type": "code",
      "metadata": {
        "id": "h6_trPFybTV0",
        "colab_type": "code",
        "colab": {},
        "outputId": "06f47689-f640-4e7a-c36b-34482d05ff28"
      },
      "source": [
        "# DON'T WRITE HERE"
      ],
      "execution_count": null,
      "outputs": [
        {
          "output_type": "execute_result",
          "data": {
            "text/plain": [
              "Washington County    30\n",
              "Jefferson County     25\n",
              "Franklin County      24\n",
              "Jackson County       23\n",
              "Lincoln County       23\n",
              "Name: County, dtype: int64"
            ]
          },
          "metadata": {
            "tags": []
          },
          "execution_count": 7
        }
      ]
    },
    {
      "cell_type": "markdown",
      "metadata": {
        "id": "RFJ1K_R-bTV3",
        "colab_type": "text"
      },
      "source": [
        "#### 7. What are the top 5 most populated Counties according to the 2010 Census?"
      ]
    },
    {
      "cell_type": "code",
      "metadata": {
        "scrolled": true,
        "id": "R98uU0pTbTV4",
        "colab_type": "code",
        "colab": {
          "base_uri": "https://localhost:8080/",
          "height": 195
        },
        "outputId": "e38b5bcc-dced-4a79-adbc-ca2bf905e928"
      },
      "source": [
        "df.sort_values(by='2010Census', ascending=False).head()"
      ],
      "execution_count": 8,
      "outputs": [
        {
          "output_type": "execute_result",
          "data": {
            "text/html": [
              "<div>\n",
              "<style scoped>\n",
              "    .dataframe tbody tr th:only-of-type {\n",
              "        vertical-align: middle;\n",
              "    }\n",
              "\n",
              "    .dataframe tbody tr th {\n",
              "        vertical-align: top;\n",
              "    }\n",
              "\n",
              "    .dataframe thead th {\n",
              "        text-align: right;\n",
              "    }\n",
              "</style>\n",
              "<table border=\"1\" class=\"dataframe\">\n",
              "  <thead>\n",
              "    <tr style=\"text-align: right;\">\n",
              "      <th></th>\n",
              "      <th>County</th>\n",
              "      <th>State</th>\n",
              "      <th>2010Census</th>\n",
              "      <th>2017PopEstimate</th>\n",
              "    </tr>\n",
              "  </thead>\n",
              "  <tbody>\n",
              "    <tr>\n",
              "      <th>1713</th>\n",
              "      <td>Los Angeles County</td>\n",
              "      <td>California</td>\n",
              "      <td>9818605</td>\n",
              "      <td>10163507</td>\n",
              "    </tr>\n",
              "    <tr>\n",
              "      <th>628</th>\n",
              "      <td>Cook County</td>\n",
              "      <td>Illinois</td>\n",
              "      <td>5194675</td>\n",
              "      <td>5211263</td>\n",
              "    </tr>\n",
              "    <tr>\n",
              "      <th>1209</th>\n",
              "      <td>Harris County</td>\n",
              "      <td>Texas</td>\n",
              "      <td>4092459</td>\n",
              "      <td>4652980</td>\n",
              "    </tr>\n",
              "    <tr>\n",
              "      <th>1784</th>\n",
              "      <td>Maricopa County</td>\n",
              "      <td>Arizona</td>\n",
              "      <td>3817117</td>\n",
              "      <td>4307033</td>\n",
              "    </tr>\n",
              "    <tr>\n",
              "      <th>2501</th>\n",
              "      <td>San Diego County</td>\n",
              "      <td>California</td>\n",
              "      <td>3095313</td>\n",
              "      <td>3337685</td>\n",
              "    </tr>\n",
              "  </tbody>\n",
              "</table>\n",
              "</div>"
            ],
            "text/plain": [
              "                  County       State  2010Census  2017PopEstimate\n",
              "1713  Los Angeles County  California     9818605         10163507\n",
              "628          Cook County    Illinois     5194675          5211263\n",
              "1209       Harris County       Texas     4092459          4652980\n",
              "1784     Maricopa County     Arizona     3817117          4307033\n",
              "2501    San Diego County  California     3095313          3337685"
            ]
          },
          "metadata": {
            "tags": []
          },
          "execution_count": 8
        }
      ]
    },
    {
      "cell_type": "code",
      "metadata": {
        "id": "HktEs9uebTV7",
        "colab_type": "code",
        "colab": {},
        "outputId": "8e64710a-9ce2-4539-c692-936f2b1aef7a"
      },
      "source": [
        "# DON'T WRITE HERE"
      ],
      "execution_count": null,
      "outputs": [
        {
          "output_type": "execute_result",
          "data": {
            "text/html": [
              "<div>\n",
              "<style scoped>\n",
              "    .dataframe tbody tr th:only-of-type {\n",
              "        vertical-align: middle;\n",
              "    }\n",
              "\n",
              "    .dataframe tbody tr th {\n",
              "        vertical-align: top;\n",
              "    }\n",
              "\n",
              "    .dataframe thead th {\n",
              "        text-align: right;\n",
              "    }\n",
              "</style>\n",
              "<table border=\"1\" class=\"dataframe\">\n",
              "  <thead>\n",
              "    <tr style=\"text-align: right;\">\n",
              "      <th></th>\n",
              "      <th>County</th>\n",
              "      <th>State</th>\n",
              "      <th>2010Census</th>\n",
              "      <th>2017PopEstimate</th>\n",
              "    </tr>\n",
              "  </thead>\n",
              "  <tbody>\n",
              "    <tr>\n",
              "      <th>1713</th>\n",
              "      <td>Los Angeles County</td>\n",
              "      <td>California</td>\n",
              "      <td>9818605</td>\n",
              "      <td>10163507</td>\n",
              "    </tr>\n",
              "    <tr>\n",
              "      <th>628</th>\n",
              "      <td>Cook County</td>\n",
              "      <td>Illinois</td>\n",
              "      <td>5194675</td>\n",
              "      <td>5211263</td>\n",
              "    </tr>\n",
              "    <tr>\n",
              "      <th>1209</th>\n",
              "      <td>Harris County</td>\n",
              "      <td>Texas</td>\n",
              "      <td>4092459</td>\n",
              "      <td>4652980</td>\n",
              "    </tr>\n",
              "    <tr>\n",
              "      <th>1784</th>\n",
              "      <td>Maricopa County</td>\n",
              "      <td>Arizona</td>\n",
              "      <td>3817117</td>\n",
              "      <td>4307033</td>\n",
              "    </tr>\n",
              "    <tr>\n",
              "      <th>2501</th>\n",
              "      <td>San Diego County</td>\n",
              "      <td>California</td>\n",
              "      <td>3095313</td>\n",
              "      <td>3337685</td>\n",
              "    </tr>\n",
              "  </tbody>\n",
              "</table>\n",
              "</div>"
            ],
            "text/plain": [
              "                  County       State  2010Census  2017PopEstimate\n",
              "1713  Los Angeles County  California     9818605         10163507\n",
              "628          Cook County    Illinois     5194675          5211263\n",
              "1209       Harris County       Texas     4092459          4652980\n",
              "1784     Maricopa County     Arizona     3817117          4307033\n",
              "2501    San Diego County  California     3095313          3337685"
            ]
          },
          "metadata": {
            "tags": []
          },
          "execution_count": 8
        }
      ]
    },
    {
      "cell_type": "markdown",
      "metadata": {
        "id": "7ZBmgG_cbTV9",
        "colab_type": "text"
      },
      "source": [
        "#### 8. What are the top 5 most populated States according to the 2010 Census?"
      ]
    },
    {
      "cell_type": "code",
      "metadata": {
        "id": "hIjWRXa3bTV9",
        "colab_type": "code",
        "colab": {
          "base_uri": "https://localhost:8080/",
          "height": 225
        },
        "outputId": "f778ed54-d8a3-44f7-ad3f-ca7df6a0aa22"
      },
      "source": [
        "df.groupby('State').sum().sort_values(by='2010Census', ascending=False).head()"
      ],
      "execution_count": 9,
      "outputs": [
        {
          "output_type": "execute_result",
          "data": {
            "text/html": [
              "<div>\n",
              "<style scoped>\n",
              "    .dataframe tbody tr th:only-of-type {\n",
              "        vertical-align: middle;\n",
              "    }\n",
              "\n",
              "    .dataframe tbody tr th {\n",
              "        vertical-align: top;\n",
              "    }\n",
              "\n",
              "    .dataframe thead th {\n",
              "        text-align: right;\n",
              "    }\n",
              "</style>\n",
              "<table border=\"1\" class=\"dataframe\">\n",
              "  <thead>\n",
              "    <tr style=\"text-align: right;\">\n",
              "      <th></th>\n",
              "      <th>2010Census</th>\n",
              "      <th>2017PopEstimate</th>\n",
              "    </tr>\n",
              "    <tr>\n",
              "      <th>State</th>\n",
              "      <th></th>\n",
              "      <th></th>\n",
              "    </tr>\n",
              "  </thead>\n",
              "  <tbody>\n",
              "    <tr>\n",
              "      <th>California</th>\n",
              "      <td>37253956</td>\n",
              "      <td>39536653</td>\n",
              "    </tr>\n",
              "    <tr>\n",
              "      <th>Texas</th>\n",
              "      <td>25145561</td>\n",
              "      <td>28304596</td>\n",
              "    </tr>\n",
              "    <tr>\n",
              "      <th>New York</th>\n",
              "      <td>19378102</td>\n",
              "      <td>19849399</td>\n",
              "    </tr>\n",
              "    <tr>\n",
              "      <th>Florida</th>\n",
              "      <td>18801310</td>\n",
              "      <td>20984400</td>\n",
              "    </tr>\n",
              "    <tr>\n",
              "      <th>Illinois</th>\n",
              "      <td>12830632</td>\n",
              "      <td>12802023</td>\n",
              "    </tr>\n",
              "  </tbody>\n",
              "</table>\n",
              "</div>"
            ],
            "text/plain": [
              "            2010Census  2017PopEstimate\n",
              "State                                  \n",
              "California    37253956         39536653\n",
              "Texas         25145561         28304596\n",
              "New York      19378102         19849399\n",
              "Florida       18801310         20984400\n",
              "Illinois      12830632         12802023"
            ]
          },
          "metadata": {
            "tags": []
          },
          "execution_count": 9
        }
      ]
    },
    {
      "cell_type": "code",
      "metadata": {
        "id": "d2tp4ZKcbTWB",
        "colab_type": "code",
        "colab": {},
        "outputId": "0269bc49-002c-481c-d985-7d8dba329ae7"
      },
      "source": [
        "# DON'T WRITE HERE"
      ],
      "execution_count": null,
      "outputs": [
        {
          "output_type": "execute_result",
          "data": {
            "text/html": [
              "<div>\n",
              "<style scoped>\n",
              "    .dataframe tbody tr th:only-of-type {\n",
              "        vertical-align: middle;\n",
              "    }\n",
              "\n",
              "    .dataframe tbody tr th {\n",
              "        vertical-align: top;\n",
              "    }\n",
              "\n",
              "    .dataframe thead th {\n",
              "        text-align: right;\n",
              "    }\n",
              "</style>\n",
              "<table border=\"1\" class=\"dataframe\">\n",
              "  <thead>\n",
              "    <tr style=\"text-align: right;\">\n",
              "      <th></th>\n",
              "      <th>2010Census</th>\n",
              "      <th>2017PopEstimate</th>\n",
              "    </tr>\n",
              "    <tr>\n",
              "      <th>State</th>\n",
              "      <th></th>\n",
              "      <th></th>\n",
              "    </tr>\n",
              "  </thead>\n",
              "  <tbody>\n",
              "    <tr>\n",
              "      <th>California</th>\n",
              "      <td>37253956</td>\n",
              "      <td>39536653</td>\n",
              "    </tr>\n",
              "    <tr>\n",
              "      <th>Texas</th>\n",
              "      <td>25145561</td>\n",
              "      <td>28304596</td>\n",
              "    </tr>\n",
              "    <tr>\n",
              "      <th>New York</th>\n",
              "      <td>19378102</td>\n",
              "      <td>19849399</td>\n",
              "    </tr>\n",
              "    <tr>\n",
              "      <th>Florida</th>\n",
              "      <td>18801310</td>\n",
              "      <td>20984400</td>\n",
              "    </tr>\n",
              "    <tr>\n",
              "      <th>Illinois</th>\n",
              "      <td>12830632</td>\n",
              "      <td>12802023</td>\n",
              "    </tr>\n",
              "  </tbody>\n",
              "</table>\n",
              "</div>"
            ],
            "text/plain": [
              "            2010Census  2017PopEstimate\n",
              "State                                  \n",
              "California    37253956         39536653\n",
              "Texas         25145561         28304596\n",
              "New York      19378102         19849399\n",
              "Florida       18801310         20984400\n",
              "Illinois      12830632         12802023"
            ]
          },
          "metadata": {
            "tags": []
          },
          "execution_count": 9
        }
      ]
    },
    {
      "cell_type": "markdown",
      "metadata": {
        "id": "K0Ro0HPtbTWF",
        "colab_type": "text"
      },
      "source": [
        "#### 9. How many Counties have 2010 populations greater than 1 million?"
      ]
    },
    {
      "cell_type": "code",
      "metadata": {
        "id": "cwHY_Ea_bTWF",
        "colab_type": "code",
        "colab": {
          "base_uri": "https://localhost:8080/",
          "height": 34
        },
        "outputId": "9132f013-111c-4792-b920-efd09656a0b0"
      },
      "source": [
        "len(df[ df['2010Census'] > 1000000 ])"
      ],
      "execution_count": 10,
      "outputs": [
        {
          "output_type": "execute_result",
          "data": {
            "text/plain": [
              "39"
            ]
          },
          "metadata": {
            "tags": []
          },
          "execution_count": 10
        }
      ]
    },
    {
      "cell_type": "code",
      "metadata": {
        "id": "hrQ2_smXbTWH",
        "colab_type": "code",
        "colab": {},
        "outputId": "001d7def-00d3-4a5c-f1c8-a767f7b3ffdc"
      },
      "source": [
        "# DON'T WRITE HERE"
      ],
      "execution_count": null,
      "outputs": [
        {
          "output_type": "execute_result",
          "data": {
            "text/plain": [
              "39"
            ]
          },
          "metadata": {
            "tags": []
          },
          "execution_count": 10
        }
      ]
    },
    {
      "cell_type": "markdown",
      "metadata": {
        "id": "LYRSqc1obTWJ",
        "colab_type": "text"
      },
      "source": [
        "#### 10. How many Counties don't have the word \"County\" in their name?"
      ]
    },
    {
      "cell_type": "code",
      "metadata": {
        "id": "HxLyPpT6envU",
        "colab_type": "code",
        "colab": {}
      },
      "source": [
        "# len(df[ ~df['County'].str.contains('County') ])"
      ],
      "execution_count": null,
      "outputs": []
    },
    {
      "cell_type": "code",
      "metadata": {
        "id": "zGalNRsQbTWJ",
        "colab_type": "code",
        "colab": {
          "base_uri": "https://localhost:8080/",
          "height": 34
        },
        "outputId": "2d30bc66-eed1-4d3c-87a8-84da8ae97463"
      },
      "source": [
        "sum(df['County'].apply(lambda name: 'County' not in name))"
      ],
      "execution_count": 14,
      "outputs": [
        {
          "output_type": "execute_result",
          "data": {
            "text/plain": [
              "135"
            ]
          },
          "metadata": {
            "tags": []
          },
          "execution_count": 14
        }
      ]
    },
    {
      "cell_type": "code",
      "metadata": {
        "id": "QIMWkfTwbTWL",
        "colab_type": "code",
        "colab": {},
        "outputId": "88ade1bc-e9ff-4f18-f355-6117e5b178ad"
      },
      "source": [
        "# DON'T WRITE HERE"
      ],
      "execution_count": null,
      "outputs": [
        {
          "output_type": "execute_result",
          "data": {
            "text/plain": [
              "135"
            ]
          },
          "metadata": {
            "tags": []
          },
          "execution_count": 11
        }
      ]
    },
    {
      "cell_type": "markdown",
      "metadata": {
        "id": "txKddMGqbTWN",
        "colab_type": "text"
      },
      "source": [
        "#### 11. Add a column that calculates the percent change between the 2010 Census and the 2017 Population Estimate"
      ]
    },
    {
      "cell_type": "code",
      "metadata": {
        "id": "yODnL6NabTWN",
        "colab_type": "code",
        "colab": {
          "base_uri": "https://localhost:8080/",
          "height": 195
        },
        "outputId": "bb1e7a61-dd4c-4bad-896b-41ae67379f2c"
      },
      "source": [
        "# CODE HERE\n",
        "pop = df.copy()\n",
        "pop['PercentChange'] = (pop['2017PopEstimate'] - pop['2010Census']) / pop['2010Census'] * 100\n",
        "# USE THIS TO SHOW THE RESULT\n",
        "pop.head()"
      ],
      "execution_count": 12,
      "outputs": [
        {
          "output_type": "execute_result",
          "data": {
            "text/html": [
              "<div>\n",
              "<style scoped>\n",
              "    .dataframe tbody tr th:only-of-type {\n",
              "        vertical-align: middle;\n",
              "    }\n",
              "\n",
              "    .dataframe tbody tr th {\n",
              "        vertical-align: top;\n",
              "    }\n",
              "\n",
              "    .dataframe thead th {\n",
              "        text-align: right;\n",
              "    }\n",
              "</style>\n",
              "<table border=\"1\" class=\"dataframe\">\n",
              "  <thead>\n",
              "    <tr style=\"text-align: right;\">\n",
              "      <th></th>\n",
              "      <th>County</th>\n",
              "      <th>State</th>\n",
              "      <th>2010Census</th>\n",
              "      <th>2017PopEstimate</th>\n",
              "      <th>PercentChange</th>\n",
              "    </tr>\n",
              "  </thead>\n",
              "  <tbody>\n",
              "    <tr>\n",
              "      <th>0</th>\n",
              "      <td>Abbeville County</td>\n",
              "      <td>South Carolina</td>\n",
              "      <td>25417</td>\n",
              "      <td>24722</td>\n",
              "      <td>-2.734390</td>\n",
              "    </tr>\n",
              "    <tr>\n",
              "      <th>1</th>\n",
              "      <td>Acadia Parish</td>\n",
              "      <td>Louisiana</td>\n",
              "      <td>61773</td>\n",
              "      <td>62590</td>\n",
              "      <td>1.322584</td>\n",
              "    </tr>\n",
              "    <tr>\n",
              "      <th>2</th>\n",
              "      <td>Accomack County</td>\n",
              "      <td>Virginia</td>\n",
              "      <td>33164</td>\n",
              "      <td>32545</td>\n",
              "      <td>-1.866482</td>\n",
              "    </tr>\n",
              "    <tr>\n",
              "      <th>3</th>\n",
              "      <td>Ada County</td>\n",
              "      <td>Idaho</td>\n",
              "      <td>392365</td>\n",
              "      <td>456849</td>\n",
              "      <td>16.434697</td>\n",
              "    </tr>\n",
              "    <tr>\n",
              "      <th>4</th>\n",
              "      <td>Adair County</td>\n",
              "      <td>Iowa</td>\n",
              "      <td>7682</td>\n",
              "      <td>7054</td>\n",
              "      <td>-8.174954</td>\n",
              "    </tr>\n",
              "  </tbody>\n",
              "</table>\n",
              "</div>"
            ],
            "text/plain": [
              "             County           State  2010Census  2017PopEstimate  PercentChange\n",
              "0  Abbeville County  South Carolina       25417            24722      -2.734390\n",
              "1     Acadia Parish       Louisiana       61773            62590       1.322584\n",
              "2   Accomack County        Virginia       33164            32545      -1.866482\n",
              "3        Ada County           Idaho      392365           456849      16.434697\n",
              "4      Adair County            Iowa        7682             7054      -8.174954"
            ]
          },
          "metadata": {
            "tags": []
          },
          "execution_count": 12
        }
      ]
    },
    {
      "cell_type": "code",
      "metadata": {
        "id": "bmJ6Z2gIbTWP",
        "colab_type": "code",
        "colab": {},
        "outputId": "02de2699-56b4-420a-aa48-ef6a50befc71"
      },
      "source": [
        "# DON'T WRITE HERE"
      ],
      "execution_count": null,
      "outputs": [
        {
          "output_type": "execute_result",
          "data": {
            "text/html": [
              "<div>\n",
              "<style scoped>\n",
              "    .dataframe tbody tr th:only-of-type {\n",
              "        vertical-align: middle;\n",
              "    }\n",
              "\n",
              "    .dataframe tbody tr th {\n",
              "        vertical-align: top;\n",
              "    }\n",
              "\n",
              "    .dataframe thead th {\n",
              "        text-align: right;\n",
              "    }\n",
              "</style>\n",
              "<table border=\"1\" class=\"dataframe\">\n",
              "  <thead>\n",
              "    <tr style=\"text-align: right;\">\n",
              "      <th></th>\n",
              "      <th>County</th>\n",
              "      <th>State</th>\n",
              "      <th>2010Census</th>\n",
              "      <th>2017PopEstimate</th>\n",
              "      <th>PercentChange</th>\n",
              "    </tr>\n",
              "  </thead>\n",
              "  <tbody>\n",
              "    <tr>\n",
              "      <th>0</th>\n",
              "      <td>Abbeville County</td>\n",
              "      <td>South Carolina</td>\n",
              "      <td>25417</td>\n",
              "      <td>24722</td>\n",
              "      <td>-2.734390</td>\n",
              "    </tr>\n",
              "    <tr>\n",
              "      <th>1</th>\n",
              "      <td>Acadia Parish</td>\n",
              "      <td>Louisiana</td>\n",
              "      <td>61773</td>\n",
              "      <td>62590</td>\n",
              "      <td>1.322584</td>\n",
              "    </tr>\n",
              "    <tr>\n",
              "      <th>2</th>\n",
              "      <td>Accomack County</td>\n",
              "      <td>Virginia</td>\n",
              "      <td>33164</td>\n",
              "      <td>32545</td>\n",
              "      <td>-1.866482</td>\n",
              "    </tr>\n",
              "    <tr>\n",
              "      <th>3</th>\n",
              "      <td>Ada County</td>\n",
              "      <td>Idaho</td>\n",
              "      <td>392365</td>\n",
              "      <td>456849</td>\n",
              "      <td>16.434697</td>\n",
              "    </tr>\n",
              "    <tr>\n",
              "      <th>4</th>\n",
              "      <td>Adair County</td>\n",
              "      <td>Iowa</td>\n",
              "      <td>7682</td>\n",
              "      <td>7054</td>\n",
              "      <td>-8.174954</td>\n",
              "    </tr>\n",
              "  </tbody>\n",
              "</table>\n",
              "</div>"
            ],
            "text/plain": [
              "             County           State  2010Census  2017PopEstimate  \\\n",
              "0  Abbeville County  South Carolina       25417            24722   \n",
              "1     Acadia Parish       Louisiana       61773            62590   \n",
              "2   Accomack County        Virginia       33164            32545   \n",
              "3        Ada County           Idaho      392365           456849   \n",
              "4      Adair County            Iowa        7682             7054   \n",
              "\n",
              "   PercentChange  \n",
              "0      -2.734390  \n",
              "1       1.322584  \n",
              "2      -1.866482  \n",
              "3      16.434697  \n",
              "4      -8.174954  "
            ]
          },
          "metadata": {
            "tags": []
          },
          "execution_count": 12
        }
      ]
    },
    {
      "cell_type": "markdown",
      "metadata": {
        "id": "VqXyOuDcbTWR",
        "colab_type": "text"
      },
      "source": [
        "<strong>Bonus: What States have the highest estimated percent change between the 2010 Census and the 2017 Population Estimate?</strong><br>This will take several lines of code, as it requires a recalculation of PercentChange."
      ]
    },
    {
      "cell_type": "code",
      "metadata": {
        "id": "tOzhFmPNbTWR",
        "colab_type": "code",
        "colab": {
          "base_uri": "https://localhost:8080/",
          "height": 225
        },
        "outputId": "f914d8e7-a731-4239-883b-55cedec86b0e"
      },
      "source": [
        "# CODE HERE\n",
        "pop = df.groupby('State').sum()\n",
        "pop['PercentChange'] = (pop['2017PopEstimate'] - pop['2010Census']) / pop['2010Census'] * 100\n",
        "pop.sort_values(by='PercentChange', ascending=False).head()"
      ],
      "execution_count": 13,
      "outputs": [
        {
          "output_type": "execute_result",
          "data": {
            "text/html": [
              "<div>\n",
              "<style scoped>\n",
              "    .dataframe tbody tr th:only-of-type {\n",
              "        vertical-align: middle;\n",
              "    }\n",
              "\n",
              "    .dataframe tbody tr th {\n",
              "        vertical-align: top;\n",
              "    }\n",
              "\n",
              "    .dataframe thead th {\n",
              "        text-align: right;\n",
              "    }\n",
              "</style>\n",
              "<table border=\"1\" class=\"dataframe\">\n",
              "  <thead>\n",
              "    <tr style=\"text-align: right;\">\n",
              "      <th></th>\n",
              "      <th>2010Census</th>\n",
              "      <th>2017PopEstimate</th>\n",
              "      <th>PercentChange</th>\n",
              "    </tr>\n",
              "    <tr>\n",
              "      <th>State</th>\n",
              "      <th></th>\n",
              "      <th></th>\n",
              "      <th></th>\n",
              "    </tr>\n",
              "  </thead>\n",
              "  <tbody>\n",
              "    <tr>\n",
              "      <th>District of Columbia</th>\n",
              "      <td>601723</td>\n",
              "      <td>693972</td>\n",
              "      <td>15.330808</td>\n",
              "    </tr>\n",
              "    <tr>\n",
              "      <th>Texas</th>\n",
              "      <td>25145561</td>\n",
              "      <td>28304596</td>\n",
              "      <td>12.562993</td>\n",
              "    </tr>\n",
              "    <tr>\n",
              "      <th>North Dakota</th>\n",
              "      <td>672591</td>\n",
              "      <td>755393</td>\n",
              "      <td>12.310899</td>\n",
              "    </tr>\n",
              "    <tr>\n",
              "      <th>Utah</th>\n",
              "      <td>2763885</td>\n",
              "      <td>3101833</td>\n",
              "      <td>12.227282</td>\n",
              "    </tr>\n",
              "    <tr>\n",
              "      <th>Florida</th>\n",
              "      <td>18801310</td>\n",
              "      <td>20984400</td>\n",
              "      <td>11.611372</td>\n",
              "    </tr>\n",
              "  </tbody>\n",
              "</table>\n",
              "</div>"
            ],
            "text/plain": [
              "                      2010Census  2017PopEstimate  PercentChange\n",
              "State                                                           \n",
              "District of Columbia      601723           693972      15.330808\n",
              "Texas                   25145561         28304596      12.562993\n",
              "North Dakota              672591           755393      12.310899\n",
              "Utah                     2763885          3101833      12.227282\n",
              "Florida                 18801310         20984400      11.611372"
            ]
          },
          "metadata": {
            "tags": []
          },
          "execution_count": 13
        }
      ]
    },
    {
      "cell_type": "code",
      "metadata": {
        "id": "xHqy9V9gbTWV",
        "colab_type": "code",
        "colab": {},
        "outputId": "c4691c77-8e9c-4cc4-b5e0-330d9a2633e4"
      },
      "source": [
        "# DON'T WRITE HERE"
      ],
      "execution_count": null,
      "outputs": [
        {
          "output_type": "execute_result",
          "data": {
            "text/html": [
              "<div>\n",
              "<style scoped>\n",
              "    .dataframe tbody tr th:only-of-type {\n",
              "        vertical-align: middle;\n",
              "    }\n",
              "\n",
              "    .dataframe tbody tr th {\n",
              "        vertical-align: top;\n",
              "    }\n",
              "\n",
              "    .dataframe thead th {\n",
              "        text-align: right;\n",
              "    }\n",
              "</style>\n",
              "<table border=\"1\" class=\"dataframe\">\n",
              "  <thead>\n",
              "    <tr style=\"text-align: right;\">\n",
              "      <th></th>\n",
              "      <th>2010Census</th>\n",
              "      <th>2017PopEstimate</th>\n",
              "      <th>PercentChange</th>\n",
              "    </tr>\n",
              "    <tr>\n",
              "      <th>State</th>\n",
              "      <th></th>\n",
              "      <th></th>\n",
              "      <th></th>\n",
              "    </tr>\n",
              "  </thead>\n",
              "  <tbody>\n",
              "    <tr>\n",
              "      <th>District of Columbia</th>\n",
              "      <td>601723</td>\n",
              "      <td>693972</td>\n",
              "      <td>15.330808</td>\n",
              "    </tr>\n",
              "    <tr>\n",
              "      <th>Texas</th>\n",
              "      <td>25145561</td>\n",
              "      <td>28304596</td>\n",
              "      <td>12.562993</td>\n",
              "    </tr>\n",
              "    <tr>\n",
              "      <th>North Dakota</th>\n",
              "      <td>672591</td>\n",
              "      <td>755393</td>\n",
              "      <td>12.310899</td>\n",
              "    </tr>\n",
              "    <tr>\n",
              "      <th>Utah</th>\n",
              "      <td>2763885</td>\n",
              "      <td>3101833</td>\n",
              "      <td>12.227282</td>\n",
              "    </tr>\n",
              "    <tr>\n",
              "      <th>Florida</th>\n",
              "      <td>18801310</td>\n",
              "      <td>20984400</td>\n",
              "      <td>11.611372</td>\n",
              "    </tr>\n",
              "  </tbody>\n",
              "</table>\n",
              "</div>"
            ],
            "text/plain": [
              "                      2010Census  2017PopEstimate  PercentChange\n",
              "State                                                           \n",
              "District of Columbia      601723           693972      15.330808\n",
              "Texas                   25145561         28304596      12.562993\n",
              "North Dakota              672591           755393      12.310899\n",
              "Utah                     2763885          3101833      12.227282\n",
              "Florida                 18801310         20984400      11.611372"
            ]
          },
          "metadata": {
            "tags": []
          },
          "execution_count": 13
        }
      ]
    },
    {
      "cell_type": "markdown",
      "metadata": {
        "id": "O_AUnDQLbTWY",
        "colab_type": "text"
      },
      "source": [
        "# GREAT JOB!"
      ]
    }
  ]
}